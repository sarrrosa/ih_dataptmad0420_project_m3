{
 "cells": [
  {
   "cell_type": "markdown",
   "metadata": {},
   "source": [
    "# Predicting diamond's price"
   ]
  },
  {
   "cell_type": "markdown",
   "metadata": {},
   "source": [
    "#### For more info, please refer to the Kaggle competition. Also, dataset can be found here. "
   ]
  },
  {
   "cell_type": "markdown",
   "metadata": {},
   "source": [
    "##### Datasets used for this training can be found in data folder or in the link above. Please refer to diamonds_train to train and test the model and diamonds_predict to predict prices."
   ]
  },
  {
   "cell_type": "markdown",
   "metadata": {},
   "source": [
    "## 1. Importing libraries"
   ]
  },
  {
   "cell_type": "markdown",
   "metadata": {},
   "source": [
    "### 1.1. Importing machine learning libraries"
   ]
  },
  {
   "cell_type": "code",
   "execution_count": 1,
   "metadata": {},
   "outputs": [],
   "source": [
    "from sklearn.model_selection import train_test_split\n",
    "from sklearn import metrics\n",
    "from sklearn.metrics import mean_squared_error\n",
    "from sklearn.pipeline import make_pipeline\n",
    "from sklearn.metrics import r2_score\n",
    "from sklearn.ensemble import RandomForestRegressor\n",
    "from sklearn.model_selection import GridSearchCV\n",
    "from sklearn.tree import DecisionTreeRegressor\n",
    "from sklearn.metrics import mean_absolute_error\n",
    "from sklearn.ensemble import RandomForestClassifier\n",
    "from sklearn.ensemble import GradientBoostingRegressor\n",
    "from sklearn.preprocessing import StandardScaler\n",
    "import lightgbm as lgb"
   ]
  },
  {
   "cell_type": "markdown",
   "metadata": {},
   "source": [
    "### 1.2. Importing other libraries"
   ]
  },
  {
   "cell_type": "code",
   "execution_count": 2,
   "metadata": {},
   "outputs": [],
   "source": [
    "import pandas as pd\n",
    "import numpy as np\n",
    "import seaborn as sns\n",
    "import matplotlib.pyplot as plt"
   ]
  },
  {
   "cell_type": "markdown",
   "metadata": {},
   "source": [
    "### 1.3. Importing datasets"
   ]
  },
  {
   "cell_type": "code",
   "execution_count": 3,
   "metadata": {},
   "outputs": [],
   "source": [
    "diamonds_train = pd.read_csv('../data/diamonds_train.csv')\n",
    "diamonds_predict = pd.read_csv('../data/diamonds_predict.csv')"
   ]
  },
  {
   "cell_type": "code",
   "execution_count": 4,
   "metadata": {},
   "outputs": [
    {
     "data": {
      "text/html": [
       "<div>\n",
       "<style scoped>\n",
       "    .dataframe tbody tr th:only-of-type {\n",
       "        vertical-align: middle;\n",
       "    }\n",
       "\n",
       "    .dataframe tbody tr th {\n",
       "        vertical-align: top;\n",
       "    }\n",
       "\n",
       "    .dataframe thead th {\n",
       "        text-align: right;\n",
       "    }\n",
       "</style>\n",
       "<table border=\"1\" class=\"dataframe\">\n",
       "  <thead>\n",
       "    <tr style=\"text-align: right;\">\n",
       "      <th></th>\n",
       "      <th>carat</th>\n",
       "      <th>cut</th>\n",
       "      <th>color</th>\n",
       "      <th>clarity</th>\n",
       "      <th>depth</th>\n",
       "      <th>table</th>\n",
       "      <th>price</th>\n",
       "      <th>x</th>\n",
       "      <th>y</th>\n",
       "      <th>z</th>\n",
       "    </tr>\n",
       "  </thead>\n",
       "  <tbody>\n",
       "    <tr>\n",
       "      <th>0</th>\n",
       "      <td>1.21</td>\n",
       "      <td>Premium</td>\n",
       "      <td>J</td>\n",
       "      <td>VS2</td>\n",
       "      <td>62.4</td>\n",
       "      <td>58.0</td>\n",
       "      <td>4268</td>\n",
       "      <td>6.83</td>\n",
       "      <td>6.79</td>\n",
       "      <td>4.25</td>\n",
       "    </tr>\n",
       "    <tr>\n",
       "      <th>1</th>\n",
       "      <td>0.32</td>\n",
       "      <td>Very Good</td>\n",
       "      <td>H</td>\n",
       "      <td>VS2</td>\n",
       "      <td>63.0</td>\n",
       "      <td>57.0</td>\n",
       "      <td>505</td>\n",
       "      <td>4.35</td>\n",
       "      <td>4.38</td>\n",
       "      <td>2.75</td>\n",
       "    </tr>\n",
       "    <tr>\n",
       "      <th>2</th>\n",
       "      <td>0.71</td>\n",
       "      <td>Fair</td>\n",
       "      <td>G</td>\n",
       "      <td>VS1</td>\n",
       "      <td>65.5</td>\n",
       "      <td>55.0</td>\n",
       "      <td>2686</td>\n",
       "      <td>5.62</td>\n",
       "      <td>5.53</td>\n",
       "      <td>3.65</td>\n",
       "    </tr>\n",
       "    <tr>\n",
       "      <th>3</th>\n",
       "      <td>0.41</td>\n",
       "      <td>Good</td>\n",
       "      <td>D</td>\n",
       "      <td>SI1</td>\n",
       "      <td>63.8</td>\n",
       "      <td>56.0</td>\n",
       "      <td>738</td>\n",
       "      <td>4.68</td>\n",
       "      <td>4.72</td>\n",
       "      <td>3.00</td>\n",
       "    </tr>\n",
       "    <tr>\n",
       "      <th>4</th>\n",
       "      <td>1.02</td>\n",
       "      <td>Ideal</td>\n",
       "      <td>G</td>\n",
       "      <td>SI1</td>\n",
       "      <td>60.5</td>\n",
       "      <td>59.0</td>\n",
       "      <td>4882</td>\n",
       "      <td>6.55</td>\n",
       "      <td>6.51</td>\n",
       "      <td>3.95</td>\n",
       "    </tr>\n",
       "  </tbody>\n",
       "</table>\n",
       "</div>"
      ],
      "text/plain": [
       "   carat        cut color clarity  depth  table  price     x     y     z\n",
       "0   1.21    Premium     J     VS2   62.4   58.0   4268  6.83  6.79  4.25\n",
       "1   0.32  Very Good     H     VS2   63.0   57.0    505  4.35  4.38  2.75\n",
       "2   0.71       Fair     G     VS1   65.5   55.0   2686  5.62  5.53  3.65\n",
       "3   0.41       Good     D     SI1   63.8   56.0    738  4.68  4.72  3.00\n",
       "4   1.02      Ideal     G     SI1   60.5   59.0   4882  6.55  6.51  3.95"
      ]
     },
     "execution_count": 4,
     "metadata": {},
     "output_type": "execute_result"
    }
   ],
   "source": [
    "diamonds_train.head()"
   ]
  },
  {
   "cell_type": "code",
   "execution_count": 5,
   "metadata": {},
   "outputs": [
    {
     "data": {
      "text/html": [
       "<div>\n",
       "<style scoped>\n",
       "    .dataframe tbody tr th:only-of-type {\n",
       "        vertical-align: middle;\n",
       "    }\n",
       "\n",
       "    .dataframe tbody tr th {\n",
       "        vertical-align: top;\n",
       "    }\n",
       "\n",
       "    .dataframe thead th {\n",
       "        text-align: right;\n",
       "    }\n",
       "</style>\n",
       "<table border=\"1\" class=\"dataframe\">\n",
       "  <thead>\n",
       "    <tr style=\"text-align: right;\">\n",
       "      <th></th>\n",
       "      <th>id</th>\n",
       "      <th>carat</th>\n",
       "      <th>cut</th>\n",
       "      <th>color</th>\n",
       "      <th>clarity</th>\n",
       "      <th>depth</th>\n",
       "      <th>table</th>\n",
       "      <th>x</th>\n",
       "      <th>y</th>\n",
       "      <th>z</th>\n",
       "    </tr>\n",
       "  </thead>\n",
       "  <tbody>\n",
       "    <tr>\n",
       "      <th>0</th>\n",
       "      <td>0</td>\n",
       "      <td>0.79</td>\n",
       "      <td>Very Good</td>\n",
       "      <td>F</td>\n",
       "      <td>SI1</td>\n",
       "      <td>62.7</td>\n",
       "      <td>60.0</td>\n",
       "      <td>5.82</td>\n",
       "      <td>5.89</td>\n",
       "      <td>3.67</td>\n",
       "    </tr>\n",
       "    <tr>\n",
       "      <th>1</th>\n",
       "      <td>1</td>\n",
       "      <td>1.20</td>\n",
       "      <td>Ideal</td>\n",
       "      <td>J</td>\n",
       "      <td>VS1</td>\n",
       "      <td>61.0</td>\n",
       "      <td>57.0</td>\n",
       "      <td>6.81</td>\n",
       "      <td>6.89</td>\n",
       "      <td>4.18</td>\n",
       "    </tr>\n",
       "    <tr>\n",
       "      <th>2</th>\n",
       "      <td>2</td>\n",
       "      <td>1.57</td>\n",
       "      <td>Premium</td>\n",
       "      <td>H</td>\n",
       "      <td>SI1</td>\n",
       "      <td>62.2</td>\n",
       "      <td>61.0</td>\n",
       "      <td>7.38</td>\n",
       "      <td>7.32</td>\n",
       "      <td>4.57</td>\n",
       "    </tr>\n",
       "    <tr>\n",
       "      <th>3</th>\n",
       "      <td>3</td>\n",
       "      <td>0.90</td>\n",
       "      <td>Very Good</td>\n",
       "      <td>F</td>\n",
       "      <td>SI1</td>\n",
       "      <td>63.8</td>\n",
       "      <td>54.0</td>\n",
       "      <td>6.09</td>\n",
       "      <td>6.13</td>\n",
       "      <td>3.90</td>\n",
       "    </tr>\n",
       "    <tr>\n",
       "      <th>4</th>\n",
       "      <td>4</td>\n",
       "      <td>0.50</td>\n",
       "      <td>Very Good</td>\n",
       "      <td>F</td>\n",
       "      <td>VS1</td>\n",
       "      <td>62.9</td>\n",
       "      <td>58.0</td>\n",
       "      <td>5.05</td>\n",
       "      <td>5.09</td>\n",
       "      <td>3.19</td>\n",
       "    </tr>\n",
       "  </tbody>\n",
       "</table>\n",
       "</div>"
      ],
      "text/plain": [
       "   id  carat        cut color clarity  depth  table     x     y     z\n",
       "0   0   0.79  Very Good     F     SI1   62.7   60.0  5.82  5.89  3.67\n",
       "1   1   1.20      Ideal     J     VS1   61.0   57.0  6.81  6.89  4.18\n",
       "2   2   1.57    Premium     H     SI1   62.2   61.0  7.38  7.32  4.57\n",
       "3   3   0.90  Very Good     F     SI1   63.8   54.0  6.09  6.13  3.90\n",
       "4   4   0.50  Very Good     F     VS1   62.9   58.0  5.05  5.09  3.19"
      ]
     },
     "execution_count": 5,
     "metadata": {},
     "output_type": "execute_result"
    }
   ],
   "source": [
    "diamonds_predict.head()"
   ]
  },
  {
   "cell_type": "markdown",
   "metadata": {},
   "source": [
    "## 2. Cleaning training dataset"
   ]
  },
  {
   "cell_type": "code",
   "execution_count": 6,
   "metadata": {},
   "outputs": [
    {
     "data": {
      "text/plain": [
       "(40455, 10)"
      ]
     },
     "execution_count": 6,
     "metadata": {},
     "output_type": "execute_result"
    }
   ],
   "source": [
    "diamonds_train.shape"
   ]
  },
  {
   "cell_type": "code",
   "execution_count": 7,
   "metadata": {},
   "outputs": [
    {
     "data": {
      "text/plain": [
       "(13485, 10)"
      ]
     },
     "execution_count": 7,
     "metadata": {},
     "output_type": "execute_result"
    }
   ],
   "source": [
    "diamonds_predict.shape"
   ]
  },
  {
   "cell_type": "code",
   "execution_count": 8,
   "metadata": {},
   "outputs": [
    {
     "data": {
      "text/plain": [
       "carat      0\n",
       "cut        0\n",
       "color      0\n",
       "clarity    0\n",
       "depth      0\n",
       "table      0\n",
       "price      0\n",
       "x          0\n",
       "y          0\n",
       "z          0\n",
       "dtype: int64"
      ]
     },
     "execution_count": 8,
     "metadata": {},
     "output_type": "execute_result"
    }
   ],
   "source": [
    "diamonds_train.isnull().sum()"
   ]
  },
  {
   "cell_type": "code",
   "execution_count": 9,
   "metadata": {},
   "outputs": [
    {
     "data": {
      "text/plain": [
       "carat      float64\n",
       "cut         object\n",
       "color       object\n",
       "clarity     object\n",
       "depth      float64\n",
       "table      float64\n",
       "price        int64\n",
       "x          float64\n",
       "y          float64\n",
       "z          float64\n",
       "dtype: object"
      ]
     },
     "execution_count": 9,
     "metadata": {},
     "output_type": "execute_result"
    }
   ],
   "source": [
    "diamonds_train.dtypes"
   ]
  },
  {
   "cell_type": "code",
   "execution_count": 10,
   "metadata": {},
   "outputs": [
    {
     "data": {
      "text/plain": [
       "<matplotlib.axes._subplots.AxesSubplot at 0x7f087cd45390>"
      ]
     },
     "execution_count": 10,
     "metadata": {},
     "output_type": "execute_result"
    },
    {
     "data": {
      "image/png": "[encoded data removed]",
      "text/plain": [
       "<Figure size 432x288 with 1 Axes>"
      ]
     },
     "metadata": {
      "needs_background": "light"
     },
     "output_type": "display_data"
    }
   ],
   "source": [
    "price = diamonds_train['price']\n",
    "sns.distplot(price, bins=100)"
   ]
  },
  {
   "cell_type": "code",
   "execution_count": 11,
   "metadata": {},
   "outputs": [],
   "source": [
    "#As our model wouldn't understand non-numerical data, we need to process it"
   ]
  },
  {
   "cell_type": "code",
   "execution_count": 14,
   "metadata": {},
   "outputs": [],
   "source": [
    "diamonds_train['cut']=diamonds_train['cut'].map({'Ideal':1,'Good':2,'Very Good':3,'Fair':4,'Premium':5})\n",
    "diamonds_train['color']=diamonds_train['color'].map({'E':1,'D':2,'F':3,'G':4,'H':5,'I':6,'J':7})\n",
    "diamonds_train['clarity']=diamonds_train['clarity'].map({'VVS1':1,'IF':2,'VVS2':3,'VS1':4,'I1':5,'VS2':6,'SI1':7,'SI2':8})"
   ]
  },
  {
   "cell_type": "code",
   "execution_count": 15,
   "metadata": {},
   "outputs": [],
   "source": [
    "diamonds_predict['cut']=diamonds_predict['cut'].map({'Ideal':1,'Good':2,'Very Good':3,'Fair':4,'Premium':5})\n",
    "diamonds_predict['color']=diamonds_predict['color'].map({'E':1,'D':2,'F':3,'G':4,'H':5,'I':6,'J':7})\n",
    "diamonds_predict['clarity']=diamonds_predict['clarity'].map({'VVS1':1,'IF':2,'VVS2':3,'VS1':4,'I1':5,'VS2':6,'SI1':7,'SI2':8})"
   ]
  },
  {
   "cell_type": "code",
   "execution_count": 16,
   "metadata": {},
   "outputs": [
    {
     "data": {
      "text/html": [
       "<div>\n",
       "<style scoped>\n",
       "    .dataframe tbody tr th:only-of-type {\n",
       "        vertical-align: middle;\n",
       "    }\n",
       "\n",
       "    .dataframe tbody tr th {\n",
       "        vertical-align: top;\n",
       "    }\n",
       "\n",
       "    .dataframe thead th {\n",
       "        text-align: right;\n",
       "    }\n",
       "</style>\n",
       "<table border=\"1\" class=\"dataframe\">\n",
       "  <thead>\n",
       "    <tr style=\"text-align: right;\">\n",
       "      <th></th>\n",
       "      <th>carat</th>\n",
       "      <th>cut</th>\n",
       "      <th>color</th>\n",
       "      <th>clarity</th>\n",
       "      <th>depth</th>\n",
       "      <th>table</th>\n",
       "      <th>price</th>\n",
       "      <th>x</th>\n",
       "      <th>y</th>\n",
       "      <th>z</th>\n",
       "    </tr>\n",
       "  </thead>\n",
       "  <tbody>\n",
       "    <tr>\n",
       "      <th>carat</th>\n",
       "      <td>1.000000</td>\n",
       "      <td>0.170771</td>\n",
       "      <td>0.291289</td>\n",
       "      <td>0.323969</td>\n",
       "      <td>0.026528</td>\n",
       "      <td>0.183392</td>\n",
       "      <td>0.921935</td>\n",
       "      <td>0.975688</td>\n",
       "      <td>0.951667</td>\n",
       "      <td>0.967570</td>\n",
       "    </tr>\n",
       "    <tr>\n",
       "      <th>cut</th>\n",
       "      <td>0.170771</td>\n",
       "      <td>1.000000</td>\n",
       "      <td>0.042109</td>\n",
       "      <td>0.165726</td>\n",
       "      <td>-0.086327</td>\n",
       "      <td>0.495901</td>\n",
       "      <td>0.117882</td>\n",
       "      <td>0.175139</td>\n",
       "      <td>0.158237</td>\n",
       "      <td>0.155492</td>\n",
       "    </tr>\n",
       "    <tr>\n",
       "      <th>color</th>\n",
       "      <td>0.291289</td>\n",
       "      <td>0.042109</td>\n",
       "      <td>1.000000</td>\n",
       "      <td>-0.018561</td>\n",
       "      <td>0.051291</td>\n",
       "      <td>0.024521</td>\n",
       "      <td>0.175732</td>\n",
       "      <td>0.270498</td>\n",
       "      <td>0.263678</td>\n",
       "      <td>0.273438</td>\n",
       "    </tr>\n",
       "    <tr>\n",
       "      <th>clarity</th>\n",
       "      <td>0.323969</td>\n",
       "      <td>0.165726</td>\n",
       "      <td>-0.018561</td>\n",
       "      <td>1.000000</td>\n",
       "      <td>0.050257</td>\n",
       "      <td>0.141708</td>\n",
       "      <td>0.151757</td>\n",
       "      <td>0.346674</td>\n",
       "      <td>0.334968</td>\n",
       "      <td>0.346132</td>\n",
       "    </tr>\n",
       "    <tr>\n",
       "      <th>depth</th>\n",
       "      <td>0.026528</td>\n",
       "      <td>-0.086327</td>\n",
       "      <td>0.051291</td>\n",
       "      <td>0.050257</td>\n",
       "      <td>1.000000</td>\n",
       "      <td>-0.293114</td>\n",
       "      <td>-0.014864</td>\n",
       "      <td>-0.026348</td>\n",
       "      <td>-0.030966</td>\n",
       "      <td>0.094655</td>\n",
       "    </tr>\n",
       "    <tr>\n",
       "      <th>table</th>\n",
       "      <td>0.183392</td>\n",
       "      <td>0.495901</td>\n",
       "      <td>0.024521</td>\n",
       "      <td>0.141708</td>\n",
       "      <td>-0.293114</td>\n",
       "      <td>1.000000</td>\n",
       "      <td>0.130111</td>\n",
       "      <td>0.196059</td>\n",
       "      <td>0.184673</td>\n",
       "      <td>0.155189</td>\n",
       "    </tr>\n",
       "    <tr>\n",
       "      <th>price</th>\n",
       "      <td>0.921935</td>\n",
       "      <td>0.117882</td>\n",
       "      <td>0.175732</td>\n",
       "      <td>0.151757</td>\n",
       "      <td>-0.014864</td>\n",
       "      <td>0.130111</td>\n",
       "      <td>1.000000</td>\n",
       "      <td>0.885848</td>\n",
       "      <td>0.866163</td>\n",
       "      <td>0.874500</td>\n",
       "    </tr>\n",
       "    <tr>\n",
       "      <th>x</th>\n",
       "      <td>0.975688</td>\n",
       "      <td>0.175139</td>\n",
       "      <td>0.270498</td>\n",
       "      <td>0.346674</td>\n",
       "      <td>-0.026348</td>\n",
       "      <td>0.196059</td>\n",
       "      <td>0.885848</td>\n",
       "      <td>1.000000</td>\n",
       "      <td>0.973712</td>\n",
       "      <td>0.984876</td>\n",
       "    </tr>\n",
       "    <tr>\n",
       "      <th>y</th>\n",
       "      <td>0.951667</td>\n",
       "      <td>0.158237</td>\n",
       "      <td>0.263678</td>\n",
       "      <td>0.334968</td>\n",
       "      <td>-0.030966</td>\n",
       "      <td>0.184673</td>\n",
       "      <td>0.866163</td>\n",
       "      <td>0.973712</td>\n",
       "      <td>1.000000</td>\n",
       "      <td>0.964828</td>\n",
       "    </tr>\n",
       "    <tr>\n",
       "      <th>z</th>\n",
       "      <td>0.967570</td>\n",
       "      <td>0.155492</td>\n",
       "      <td>0.273438</td>\n",
       "      <td>0.346132</td>\n",
       "      <td>0.094655</td>\n",
       "      <td>0.155189</td>\n",
       "      <td>0.874500</td>\n",
       "      <td>0.984876</td>\n",
       "      <td>0.964828</td>\n",
       "      <td>1.000000</td>\n",
       "    </tr>\n",
       "  </tbody>\n",
       "</table>\n",
       "</div>"
      ],
      "text/plain": [
       "            carat       cut     color   clarity     depth     table     price  \\\n",
       "carat    1.000000  0.170771  0.291289  0.323969  0.026528  0.183392  0.921935   \n",
       "cut      0.170771  1.000000  0.042109  0.165726 -0.086327  0.495901  0.117882   \n",
       "color    0.291289  0.042109  1.000000 -0.018561  0.051291  0.024521  0.175732   \n",
       "clarity  0.323969  0.165726 -0.018561  1.000000  0.050257  0.141708  0.151757   \n",
       "depth    0.026528 -0.086327  0.051291  0.050257  1.000000 -0.293114 -0.014864   \n",
       "table    0.183392  0.495901  0.024521  0.141708 -0.293114  1.000000  0.130111   \n",
       "price    0.921935  0.117882  0.175732  0.151757 -0.014864  0.130111  1.000000   \n",
       "x        0.975688  0.175139  0.270498  0.346674 -0.026348  0.196059  0.885848   \n",
       "y        0.951667  0.158237  0.263678  0.334968 -0.030966  0.184673  0.866163   \n",
       "z        0.967570  0.155492  0.273438  0.346132  0.094655  0.155189  0.874500   \n",
       "\n",
       "                x         y         z  \n",
       "carat    0.975688  0.951667  0.967570  \n",
       "cut      0.175139  0.158237  0.155492  \n",
       "color    0.270498  0.263678  0.273438  \n",
       "clarity  0.346674  0.334968  0.346132  \n",
       "depth   -0.026348 -0.030966  0.094655  \n",
       "table    0.196059  0.184673  0.155189  \n",
       "price    0.885848  0.866163  0.874500  \n",
       "x        1.000000  0.973712  0.984876  \n",
       "y        0.973712  1.000000  0.964828  \n",
       "z        0.984876  0.964828  1.000000  "
      ]
     },
     "execution_count": 16,
     "metadata": {},
     "output_type": "execute_result"
    }
   ],
   "source": [
    "diamonds_train.corr()"
   ]
  },
  {
   "cell_type": "code",
   "execution_count": 17,
   "metadata": {},
   "outputs": [
    {
     "data": {
      "text/plain": [
       "(40455, 10)"
      ]
     },
     "execution_count": 17,
     "metadata": {},
     "output_type": "execute_result"
    }
   ],
   "source": [
    "diamonds_train.shape"
   ]
  },
  {
   "cell_type": "code",
   "execution_count": 18,
   "metadata": {},
   "outputs": [
    {
     "data": {
      "text/plain": [
       "(13485, 10)"
      ]
     },
     "execution_count": 18,
     "metadata": {},
     "output_type": "execute_result"
    }
   ],
   "source": [
    "diamonds_predict.shape"
   ]
  },
  {
   "cell_type": "code",
   "execution_count": 19,
   "metadata": {},
   "outputs": [],
   "source": [
    "diamonds_train['cut/wt'] = diamonds_train['cut']/diamonds_train['carat']\n",
    "diamonds_train['color/wt'] = diamonds_train['color']/diamonds_train['carat']\n",
    "diamonds_train['clarity/wt'] = diamonds_train['clarity']/diamonds_train['carat']\n",
    "#diamonds_train = diamonds_train.drop(['cut','color','clarity','depth'], axis=1)"
   ]
  },
  {
   "cell_type": "code",
   "execution_count": 20,
   "metadata": {},
   "outputs": [],
   "source": [
    "diamonds_predict['cut/wt'] = diamonds_predict['cut']/diamonds_predict['carat']\n",
    "diamonds_predict['color/wt'] = diamonds_predict['color']/diamonds_predict['carat']\n",
    "diamonds_predict['clarity/wt'] = diamonds_predict['clarity']/diamonds_predict['carat']\n",
    "#diamonds_predict = diamonds_predict.drop(['cut','color','clarity','depth'], axis=1)"
   ]
  },
  {
   "cell_type": "code",
   "execution_count": 21,
   "metadata": {},
   "outputs": [
    {
     "data": {
      "text/html": [
       "<div>\n",
       "<style scoped>\n",
       "    .dataframe tbody tr th:only-of-type {\n",
       "        vertical-align: middle;\n",
       "    }\n",
       "\n",
       "    .dataframe tbody tr th {\n",
       "        vertical-align: top;\n",
       "    }\n",
       "\n",
       "    .dataframe thead th {\n",
       "        text-align: right;\n",
       "    }\n",
       "</style>\n",
       "<table border=\"1\" class=\"dataframe\">\n",
       "  <thead>\n",
       "    <tr style=\"text-align: right;\">\n",
       "      <th></th>\n",
       "      <th>carat</th>\n",
       "      <th>cut</th>\n",
       "      <th>color</th>\n",
       "      <th>clarity</th>\n",
       "      <th>depth</th>\n",
       "      <th>table</th>\n",
       "      <th>price</th>\n",
       "      <th>x</th>\n",
       "      <th>y</th>\n",
       "      <th>z</th>\n",
       "      <th>cut/wt</th>\n",
       "      <th>color/wt</th>\n",
       "      <th>clarity/wt</th>\n",
       "    </tr>\n",
       "  </thead>\n",
       "  <tbody>\n",
       "    <tr>\n",
       "      <th>carat</th>\n",
       "      <td>1.000000</td>\n",
       "      <td>0.170771</td>\n",
       "      <td>0.291289</td>\n",
       "      <td>0.323969</td>\n",
       "      <td>0.026528</td>\n",
       "      <td>0.183392</td>\n",
       "      <td>0.921935</td>\n",
       "      <td>0.975688</td>\n",
       "      <td>0.951667</td>\n",
       "      <td>0.967570</td>\n",
       "      <td>-0.473497</td>\n",
       "      <td>-0.535200</td>\n",
       "      <td>-0.602973</td>\n",
       "    </tr>\n",
       "    <tr>\n",
       "      <th>cut</th>\n",
       "      <td>0.170771</td>\n",
       "      <td>1.000000</td>\n",
       "      <td>0.042109</td>\n",
       "      <td>0.165726</td>\n",
       "      <td>-0.086327</td>\n",
       "      <td>0.495901</td>\n",
       "      <td>0.117882</td>\n",
       "      <td>0.175139</td>\n",
       "      <td>0.158237</td>\n",
       "      <td>0.155492</td>\n",
       "      <td>0.631586</td>\n",
       "      <td>-0.094511</td>\n",
       "      <td>-0.029634</td>\n",
       "    </tr>\n",
       "    <tr>\n",
       "      <th>color</th>\n",
       "      <td>0.291289</td>\n",
       "      <td>0.042109</td>\n",
       "      <td>1.000000</td>\n",
       "      <td>-0.018561</td>\n",
       "      <td>0.051291</td>\n",
       "      <td>0.024521</td>\n",
       "      <td>0.175732</td>\n",
       "      <td>0.270498</td>\n",
       "      <td>0.263678</td>\n",
       "      <td>0.273438</td>\n",
       "      <td>-0.120171</td>\n",
       "      <td>0.507785</td>\n",
       "      <td>-0.232749</td>\n",
       "    </tr>\n",
       "    <tr>\n",
       "      <th>clarity</th>\n",
       "      <td>0.323969</td>\n",
       "      <td>0.165726</td>\n",
       "      <td>-0.018561</td>\n",
       "      <td>1.000000</td>\n",
       "      <td>0.050257</td>\n",
       "      <td>0.141708</td>\n",
       "      <td>0.151757</td>\n",
       "      <td>0.346674</td>\n",
       "      <td>0.334968</td>\n",
       "      <td>0.346132</td>\n",
       "      <td>-0.118652</td>\n",
       "      <td>-0.316765</td>\n",
       "      <td>0.388475</td>\n",
       "    </tr>\n",
       "    <tr>\n",
       "      <th>depth</th>\n",
       "      <td>0.026528</td>\n",
       "      <td>-0.086327</td>\n",
       "      <td>0.051291</td>\n",
       "      <td>0.050257</td>\n",
       "      <td>1.000000</td>\n",
       "      <td>-0.293114</td>\n",
       "      <td>-0.014864</td>\n",
       "      <td>-0.026348</td>\n",
       "      <td>-0.030966</td>\n",
       "      <td>0.094655</td>\n",
       "      <td>-0.088391</td>\n",
       "      <td>0.015924</td>\n",
       "      <td>0.012832</td>\n",
       "    </tr>\n",
       "    <tr>\n",
       "      <th>table</th>\n",
       "      <td>0.183392</td>\n",
       "      <td>0.495901</td>\n",
       "      <td>0.024521</td>\n",
       "      <td>0.141708</td>\n",
       "      <td>-0.293114</td>\n",
       "      <td>1.000000</td>\n",
       "      <td>0.130111</td>\n",
       "      <td>0.196059</td>\n",
       "      <td>0.184673</td>\n",
       "      <td>0.155189</td>\n",
       "      <td>0.267673</td>\n",
       "      <td>-0.138541</td>\n",
       "      <td>-0.082125</td>\n",
       "    </tr>\n",
       "    <tr>\n",
       "      <th>price</th>\n",
       "      <td>0.921935</td>\n",
       "      <td>0.117882</td>\n",
       "      <td>0.175732</td>\n",
       "      <td>0.151757</td>\n",
       "      <td>-0.014864</td>\n",
       "      <td>0.130111</td>\n",
       "      <td>1.000000</td>\n",
       "      <td>0.885848</td>\n",
       "      <td>0.866163</td>\n",
       "      <td>0.874500</td>\n",
       "      <td>-0.424933</td>\n",
       "      <td>-0.498303</td>\n",
       "      <td>-0.588392</td>\n",
       "    </tr>\n",
       "    <tr>\n",
       "      <th>x</th>\n",
       "      <td>0.975688</td>\n",
       "      <td>0.175139</td>\n",
       "      <td>0.270498</td>\n",
       "      <td>0.346674</td>\n",
       "      <td>-0.026348</td>\n",
       "      <td>0.196059</td>\n",
       "      <td>0.885848</td>\n",
       "      <td>1.000000</td>\n",
       "      <td>0.973712</td>\n",
       "      <td>0.984876</td>\n",
       "      <td>-0.514395</td>\n",
       "      <td>-0.590974</td>\n",
       "      <td>-0.639988</td>\n",
       "    </tr>\n",
       "    <tr>\n",
       "      <th>y</th>\n",
       "      <td>0.951667</td>\n",
       "      <td>0.158237</td>\n",
       "      <td>0.263678</td>\n",
       "      <td>0.334968</td>\n",
       "      <td>-0.030966</td>\n",
       "      <td>0.184673</td>\n",
       "      <td>0.866163</td>\n",
       "      <td>0.973712</td>\n",
       "      <td>1.000000</td>\n",
       "      <td>0.964828</td>\n",
       "      <td>-0.509668</td>\n",
       "      <td>-0.576165</td>\n",
       "      <td>-0.626525</td>\n",
       "    </tr>\n",
       "    <tr>\n",
       "      <th>z</th>\n",
       "      <td>0.967570</td>\n",
       "      <td>0.155492</td>\n",
       "      <td>0.273438</td>\n",
       "      <td>0.346132</td>\n",
       "      <td>0.094655</td>\n",
       "      <td>0.155189</td>\n",
       "      <td>0.874500</td>\n",
       "      <td>0.984876</td>\n",
       "      <td>0.964828</td>\n",
       "      <td>1.000000</td>\n",
       "      <td>-0.523020</td>\n",
       "      <td>-0.583488</td>\n",
       "      <td>-0.634010</td>\n",
       "    </tr>\n",
       "    <tr>\n",
       "      <th>cut/wt</th>\n",
       "      <td>-0.473497</td>\n",
       "      <td>0.631586</td>\n",
       "      <td>-0.120171</td>\n",
       "      <td>-0.118652</td>\n",
       "      <td>-0.088391</td>\n",
       "      <td>0.267673</td>\n",
       "      <td>-0.424933</td>\n",
       "      <td>-0.514395</td>\n",
       "      <td>-0.509668</td>\n",
       "      <td>-0.523020</td>\n",
       "      <td>1.000000</td>\n",
       "      <td>0.359627</td>\n",
       "      <td>0.431260</td>\n",
       "    </tr>\n",
       "    <tr>\n",
       "      <th>color/wt</th>\n",
       "      <td>-0.535200</td>\n",
       "      <td>-0.094511</td>\n",
       "      <td>0.507785</td>\n",
       "      <td>-0.316765</td>\n",
       "      <td>0.015924</td>\n",
       "      <td>-0.138541</td>\n",
       "      <td>-0.498303</td>\n",
       "      <td>-0.590974</td>\n",
       "      <td>-0.576165</td>\n",
       "      <td>-0.583488</td>\n",
       "      <td>0.359627</td>\n",
       "      <td>1.000000</td>\n",
       "      <td>0.340352</td>\n",
       "    </tr>\n",
       "    <tr>\n",
       "      <th>clarity/wt</th>\n",
       "      <td>-0.602973</td>\n",
       "      <td>-0.029634</td>\n",
       "      <td>-0.232749</td>\n",
       "      <td>0.388475</td>\n",
       "      <td>0.012832</td>\n",
       "      <td>-0.082125</td>\n",
       "      <td>-0.588392</td>\n",
       "      <td>-0.639988</td>\n",
       "      <td>-0.626525</td>\n",
       "      <td>-0.634010</td>\n",
       "      <td>0.431260</td>\n",
       "      <td>0.340352</td>\n",
       "      <td>1.000000</td>\n",
       "    </tr>\n",
       "  </tbody>\n",
       "</table>\n",
       "</div>"
      ],
      "text/plain": [
       "               carat       cut     color   clarity     depth     table  \\\n",
       "carat       1.000000  0.170771  0.291289  0.323969  0.026528  0.183392   \n",
       "cut         0.170771  1.000000  0.042109  0.165726 -0.086327  0.495901   \n",
       "color       0.291289  0.042109  1.000000 -0.018561  0.051291  0.024521   \n",
       "clarity     0.323969  0.165726 -0.018561  1.000000  0.050257  0.141708   \n",
       "depth       0.026528 -0.086327  0.051291  0.050257  1.000000 -0.293114   \n",
       "table       0.183392  0.495901  0.024521  0.141708 -0.293114  1.000000   \n",
       "price       0.921935  0.117882  0.175732  0.151757 -0.014864  0.130111   \n",
       "x           0.975688  0.175139  0.270498  0.346674 -0.026348  0.196059   \n",
       "y           0.951667  0.158237  0.263678  0.334968 -0.030966  0.184673   \n",
       "z           0.967570  0.155492  0.273438  0.346132  0.094655  0.155189   \n",
       "cut/wt     -0.473497  0.631586 -0.120171 -0.118652 -0.088391  0.267673   \n",
       "color/wt   -0.535200 -0.094511  0.507785 -0.316765  0.015924 -0.138541   \n",
       "clarity/wt -0.602973 -0.029634 -0.232749  0.388475  0.012832 -0.082125   \n",
       "\n",
       "               price         x         y         z    cut/wt  color/wt  \\\n",
       "carat       0.921935  0.975688  0.951667  0.967570 -0.473497 -0.535200   \n",
       "cut         0.117882  0.175139  0.158237  0.155492  0.631586 -0.094511   \n",
       "color       0.175732  0.270498  0.263678  0.273438 -0.120171  0.507785   \n",
       "clarity     0.151757  0.346674  0.334968  0.346132 -0.118652 -0.316765   \n",
       "depth      -0.014864 -0.026348 -0.030966  0.094655 -0.088391  0.015924   \n",
       "table       0.130111  0.196059  0.184673  0.155189  0.267673 -0.138541   \n",
       "price       1.000000  0.885848  0.866163  0.874500 -0.424933 -0.498303   \n",
       "x           0.885848  1.000000  0.973712  0.984876 -0.514395 -0.590974   \n",
       "y           0.866163  0.973712  1.000000  0.964828 -0.509668 -0.576165   \n",
       "z           0.874500  0.984876  0.964828  1.000000 -0.523020 -0.583488   \n",
       "cut/wt     -0.424933 -0.514395 -0.509668 -0.523020  1.000000  0.359627   \n",
       "color/wt   -0.498303 -0.590974 -0.576165 -0.583488  0.359627  1.000000   \n",
       "clarity/wt -0.588392 -0.639988 -0.626525 -0.634010  0.431260  0.340352   \n",
       "\n",
       "            clarity/wt  \n",
       "carat        -0.602973  \n",
       "cut          -0.029634  \n",
       "color        -0.232749  \n",
       "clarity       0.388475  \n",
       "depth         0.012832  \n",
       "table        -0.082125  \n",
       "price        -0.588392  \n",
       "x            -0.639988  \n",
       "y            -0.626525  \n",
       "z            -0.634010  \n",
       "cut/wt        0.431260  \n",
       "color/wt      0.340352  \n",
       "clarity/wt    1.000000  "
      ]
     },
     "execution_count": 21,
     "metadata": {},
     "output_type": "execute_result"
    }
   ],
   "source": [
    "diamonds_train.corr()"
   ]
  },
  {
   "cell_type": "markdown",
   "metadata": {},
   "source": [
    "## 3. Splitting dataset with train, test, split"
   ]
  },
  {
   "cell_type": "code",
   "execution_count": 22,
   "metadata": {},
   "outputs": [],
   "source": [
    "X = diamonds_train[['carat', 'cut', 'clarity']]\n",
    "Y = diamonds_train['price']\n",
    "X_train,X_test,Y_train,Y_test=train_test_split(X,Y)\n",
    "#X_train, X_test, y_train, y_test = train_test_split(data, data[target], test_size = 0.2, random_state = 1)\n",
    "#X_train, X_val, y_train, y_val = train_test_split(X_train, y_train, test_size = 0.25, random_state = 1)"
   ]
  },
  {
   "cell_type": "markdown",
   "metadata": {},
   "source": [
    "## 4. Trying new models: Decision Tree Regressor and Gradient Boosting Regressor "
   ]
  },
  {
   "cell_type": "code",
   "execution_count": null,
   "metadata": {},
   "outputs": [],
   "source": [
    "regressor = DecisionTreeRegressor(random_state = 0)\n",
    "regressor.fit(X_train, Y_train)\n",
    "y_pred = regressor.predict(X_test)\n",
    "mae = mean_absolute_error(Y_test,y_pred)\n",
    "\n",
    "print(\"mae: %f\" %(mae))\n",
    "Rsquare=regressor.score(X_test,Y_test)\n",
    "print(\"Rsquare: %f\" %(Rsquare))\n",
    "rmse=np.sqrt(mean_squared_error(Y_test,y_pred))\n",
    "print(\"rmse: %f\" %(rmse))\"\"\""
   ]
  },
  {
   "cell_type": "code",
   "execution_count": 24,
   "metadata": {},
   "outputs": [],
   "source": [
    "scaller = StandardScaler()\n",
    "X = diamonds_train[['carat', 'cut', 'clarity']]\n",
    "Y = diamonds_train['price']\n",
    "X_train,X_test,Y_train,Y_test=train_test_split(X,Y)"
   ]
  },
  {
   "cell_type": "code",
   "execution_count": 25,
   "metadata": {},
   "outputs": [],
   "source": [
    "model = GradientBoostingRegressor(n_estimators = 100)\n",
    "model.fit(X_train, Y_train)\n",
    "y_pred = model.predict(X_test)"
   ]
  },
  {
   "cell_type": "markdown",
   "metadata": {},
   "source": [
    "## 5. Analysing overfitting and RMSE score"
   ]
  },
  {
   "cell_type": "code",
   "execution_count": null,
   "metadata": {},
   "outputs": [],
   "source": [
    "#print(\"mae: %f\" %(mae))\n",
    "Rsquare=model.score(X_test,Y_test)\n",
    "print(\"Rsquare: %f\" %(Rsquare))\n",
    "rmse=np.sqrt(mean_squared_error(Y_test,y_pred, squared=False))\n",
    "print(\"rmse: %f\" %(rmse))"
   ]
  },
  {
   "cell_type": "markdown",
   "metadata": {},
   "source": [
    "## 6. Submitting model"
   ]
  },
  {
   "cell_type": "code",
   "execution_count": null,
   "metadata": {},
   "outputs": [],
   "source": [
    "test_submit = pd.DataFrame(y_pred)\n",
    "#test_submit.rename(columns={0: 'price'}, inplace=True)\n",
    "#test_submit.index.names = ['id']\n",
    "test_submit.to_csv(\"/home/sandra/Downloads/test_gradient_boosting.csv\")"
   ]
  }
 ],
 "metadata": {
  "kernelspec": {
   "display_name": "Python [conda env:ironhack_env] *",
   "language": "python",
   "name": "conda-env-ironhack_env-py"
  },
  "language_info": {
   "codemirror_mode": {
    "name": "ipython",
    "version": 3
   },
   "file_extension": ".py",
   "mimetype": "text/x-python",
   "name": "python",
   "nbconvert_exporter": "python",
   "pygments_lexer": "ipython3",
   "version": "3.7.7"
  }
 },
 "nbformat": 4,
 "nbformat_minor": 4
}
