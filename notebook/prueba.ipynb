{
 "cells": [
  {
   "cell_type": "markdown",
   "metadata": {},
   "source": [
    "# Predicting diamond's price"
   ]
  },
  {
   "cell_type": "markdown",
   "metadata": {},
   "source": [
    "#### For more info, please refer to the Kaggle competition. Also, dataset can be found here. "
   ]
  },
  {
   "cell_type": "markdown",
   "metadata": {},
   "source": [
    "##### Datasets used for this training can be found in data folder or in the link above. Please refer to diamonds_train to train and test the model and diamonds_predict to predict prices."
   ]
  },
  {
   "cell_type": "markdown",
   "metadata": {},
   "source": [
    "## 1. Importing libraries"
   ]
  },
  {
   "cell_type": "markdown",
   "metadata": {},
   "source": [
    "### 1.1. Importing machine learning libraries"
   ]
  },
  {
   "cell_type": "code",
   "execution_count": 2,
   "metadata": {},
   "outputs": [],
   "source": [
    "from sklearn.model_selection import train_test_split\n",
    "from sklearn import metrics\n",
    "from sklearn.metrics import mean_squared_error\n",
    "from sklearn.pipeline import make_pipeline\n",
    "from sklearn.metrics import r2_score\n",
    "from sklearn.ensemble import RandomForestRegressor\n",
    "from sklearn.model_selection import GridSearchCV\n",
    "from sklearn.tree import DecisionTreeRegressor\n",
    "from sklearn.metrics import mean_absolute_error\n",
    "from sklearn.ensemble import RandomForestClassifier\n",
    "from sklearn.ensemble import RandomForestRegressor\n",
    "from sklearn.ensemble import GradientBoostingRegressor\n",
    "from sklearn.preprocessing import StandardScaler\n",
    "from sklearn.model_selection import RandomizedSearchCV\n",
    "import lightgbm as lgb"
   ]
  },
  {
   "cell_type": "markdown",
   "metadata": {},
   "source": [
    "### 1.2. Importing other libraries"
   ]
  },
  {
   "cell_type": "code",
   "execution_count": 3,
   "metadata": {},
   "outputs": [],
   "source": [
    "import pandas as pd\n",
    "import numpy as np\n",
    "import seaborn as sns\n",
    "import matplotlib.pyplot as plt"
   ]
  },
  {
   "cell_type": "markdown",
   "metadata": {},
   "source": [
    "### 1.3. Importing datasets"
   ]
  },
  {
   "cell_type": "code",
   "execution_count": 4,
   "metadata": {},
   "outputs": [],
   "source": [
    "diamonds_train = pd.read_csv('../data/diamonds_train.csv')\n",
    "diamonds_predict = pd.read_csv('../data/diamonds_predict.csv')"
   ]
  },
  {
   "cell_type": "markdown",
   "metadata": {},
   "source": [
    "## 2. Exploring dataset"
   ]
  },
  {
   "cell_type": "code",
   "execution_count": 5,
   "metadata": {},
   "outputs": [
    {
     "data": {
      "text/plain": [
       "<matplotlib.axes._subplots.AxesSubplot at 0x7f196171f690>"
      ]
     },
     "execution_count": 5,
     "metadata": {},
     "output_type": "execute_result"
    },
    {
     "data": {
      "image/png": "[encoded data removed]",
      "text/plain": [
       "<Figure size 432x288 with 1 Axes>"
      ]
     },
     "metadata": {
      "needs_background": "light"
     },
     "output_type": "display_data"
    }
   ],
   "source": [
    "price = diamonds_train['price']\n",
    "sns.distplot(price, bins=100)"
   ]
  },
  {
   "cell_type": "code",
   "execution_count": 6,
   "metadata": {},
   "outputs": [
    {
     "data": {
      "text/html": [
       "<div>\n",
       "<style scoped>\n",
       "    .dataframe tbody tr th:only-of-type {\n",
       "        vertical-align: middle;\n",
       "    }\n",
       "\n",
       "    .dataframe tbody tr th {\n",
       "        vertical-align: top;\n",
       "    }\n",
       "\n",
       "    .dataframe thead th {\n",
       "        text-align: right;\n",
       "    }\n",
       "</style>\n",
       "<table border=\"1\" class=\"dataframe\">\n",
       "  <thead>\n",
       "    <tr style=\"text-align: right;\">\n",
       "      <th></th>\n",
       "      <th>carat</th>\n",
       "      <th>depth</th>\n",
       "      <th>table</th>\n",
       "      <th>price</th>\n",
       "      <th>x</th>\n",
       "      <th>y</th>\n",
       "      <th>z</th>\n",
       "    </tr>\n",
       "  </thead>\n",
       "  <tbody>\n",
       "    <tr>\n",
       "      <th>carat</th>\n",
       "      <td>1.000000</td>\n",
       "      <td>0.026528</td>\n",
       "      <td>0.183392</td>\n",
       "      <td>0.921935</td>\n",
       "      <td>0.975688</td>\n",
       "      <td>0.951667</td>\n",
       "      <td>0.967570</td>\n",
       "    </tr>\n",
       "    <tr>\n",
       "      <th>depth</th>\n",
       "      <td>0.026528</td>\n",
       "      <td>1.000000</td>\n",
       "      <td>-0.293114</td>\n",
       "      <td>-0.014864</td>\n",
       "      <td>-0.026348</td>\n",
       "      <td>-0.030966</td>\n",
       "      <td>0.094655</td>\n",
       "    </tr>\n",
       "    <tr>\n",
       "      <th>table</th>\n",
       "      <td>0.183392</td>\n",
       "      <td>-0.293114</td>\n",
       "      <td>1.000000</td>\n",
       "      <td>0.130111</td>\n",
       "      <td>0.196059</td>\n",
       "      <td>0.184673</td>\n",
       "      <td>0.155189</td>\n",
       "    </tr>\n",
       "    <tr>\n",
       "      <th>price</th>\n",
       "      <td>0.921935</td>\n",
       "      <td>-0.014864</td>\n",
       "      <td>0.130111</td>\n",
       "      <td>1.000000</td>\n",
       "      <td>0.885848</td>\n",
       "      <td>0.866163</td>\n",
       "      <td>0.874500</td>\n",
       "    </tr>\n",
       "    <tr>\n",
       "      <th>x</th>\n",
       "      <td>0.975688</td>\n",
       "      <td>-0.026348</td>\n",
       "      <td>0.196059</td>\n",
       "      <td>0.885848</td>\n",
       "      <td>1.000000</td>\n",
       "      <td>0.973712</td>\n",
       "      <td>0.984876</td>\n",
       "    </tr>\n",
       "    <tr>\n",
       "      <th>y</th>\n",
       "      <td>0.951667</td>\n",
       "      <td>-0.030966</td>\n",
       "      <td>0.184673</td>\n",
       "      <td>0.866163</td>\n",
       "      <td>0.973712</td>\n",
       "      <td>1.000000</td>\n",
       "      <td>0.964828</td>\n",
       "    </tr>\n",
       "    <tr>\n",
       "      <th>z</th>\n",
       "      <td>0.967570</td>\n",
       "      <td>0.094655</td>\n",
       "      <td>0.155189</td>\n",
       "      <td>0.874500</td>\n",
       "      <td>0.984876</td>\n",
       "      <td>0.964828</td>\n",
       "      <td>1.000000</td>\n",
       "    </tr>\n",
       "  </tbody>\n",
       "</table>\n",
       "</div>"
      ],
      "text/plain": [
       "          carat     depth     table     price         x         y         z\n",
       "carat  1.000000  0.026528  0.183392  0.921935  0.975688  0.951667  0.967570\n",
       "depth  0.026528  1.000000 -0.293114 -0.014864 -0.026348 -0.030966  0.094655\n",
       "table  0.183392 -0.293114  1.000000  0.130111  0.196059  0.184673  0.155189\n",
       "price  0.921935 -0.014864  0.130111  1.000000  0.885848  0.866163  0.874500\n",
       "x      0.975688 -0.026348  0.196059  0.885848  1.000000  0.973712  0.984876\n",
       "y      0.951667 -0.030966  0.184673  0.866163  0.973712  1.000000  0.964828\n",
       "z      0.967570  0.094655  0.155189  0.874500  0.984876  0.964828  1.000000"
      ]
     },
     "execution_count": 6,
     "metadata": {},
     "output_type": "execute_result"
    }
   ],
   "source": [
    "diamonds_train.corr()"
   ]
  },
  {
   "cell_type": "code",
   "execution_count": 4,
   "metadata": {},
   "outputs": [],
   "source": [
    "diamonds_train['cut']=diamonds_train['cut'].map({'Fair':0,'Good':1,'Very Good':2,'Premium':3, 'Ideal':4})\n",
    "diamonds_train['color']=diamonds_train['color'].map({'J':0, 'I':1, 'H':2, 'G':3, 'F': 4, 'E': 5, 'D':6})\n",
    "diamonds_train['clarity']=diamonds_train['clarity'].map({'I1':0,'SI2':1,'SI1':2,'VS2':3,'VS1':4,'VVS2':5,'VVS1':6,'IF':7})\n",
    "#cambiamos en predict\n",
    "diamonds_predict['cut']=diamonds_predict['cut'].map({'Fair':0,'Good':1,'Very Good':2,'Premium':3, 'Ideal':4})\n",
    "diamonds_predict['color']=diamonds_predict['color'].map({'J':0, 'I':1, 'H':2, 'G':3, 'F': 4, 'E': 5, 'D':6})\n",
    "diamonds_predict['clarity']=diamonds_predict['clarity'].map({'I1':0,'SI2':1,'SI1':2,'VS2':3,'VS1':4,'VVS2':5,'VVS1':6,'IF':7})"
   ]
  },
  {
   "cell_type": "code",
   "execution_count": 5,
   "metadata": {},
   "outputs": [],
   "source": [
    "diamonds_train['cut/wt'] = diamonds_train['cut']/diamonds_train['carat']\n",
    "diamonds_train['color/wt'] = diamonds_train['color']/diamonds_train['carat']\n",
    "diamonds_train['clarity/wt'] = diamonds_train['clarity']/diamonds_train['carat']\n",
    "#diamonds_train = diamonds_train.drop(['cut','color','clarity','depth'], axis=1)\n",
    "diamonds_predict['cut/wt'] = diamonds_predict['cut']/diamonds_predict['carat']\n",
    "diamonds_predict['color/wt'] = diamonds_predict['color']/diamonds_predict['carat']\n",
    "diamonds_predict['clarity/wt'] = diamonds_predict['clarity']/diamonds_predict['carat']\n",
    "#diamonds_predict = diamonds_predict.drop(['cut','color','clarity','depth'], axis=1)"
   ]
  },
  {
   "cell_type": "code",
   "execution_count": 6,
   "metadata": {},
   "outputs": [
    {
     "data": {
      "text/plain": [
       "Index(['carat', 'cut', 'color', 'clarity', 'depth', 'table', 'price', 'x', 'y',\n",
       "       'z', 'cut/wt', 'color/wt', 'clarity/wt'],\n",
       "      dtype='object')"
      ]
     },
     "execution_count": 6,
     "metadata": {},
     "output_type": "execute_result"
    }
   ],
   "source": [
    "diamonds_train.columns"
   ]
  },
  {
   "cell_type": "code",
   "execution_count": 7,
   "metadata": {},
   "outputs": [],
   "source": [
    "scaller = StandardScaler()\n",
    "columns_df = ['carat', 'cut', 'color', 'depth', 'cut/wt', 'color/wt', 'clarity/wt']\n",
    "X = scaller.fit_transform(diamonds_train[columns_df])\n",
    "Y = diamonds_train['price'].values\n",
    "X_train,X_test,Y_train,Y_test=train_test_split(X,Y)"
   ]
  },
  {
   "cell_type": "code",
   "execution_count": 8,
   "metadata": {},
   "outputs": [],
   "source": [
    "model = lgb.LGBMRegressor()\n",
    "param_dist = {'num_leaves': [35, 40, 45, 50],\n",
    "             'min_data_in_leaf': [10, 15, 20, 30, 40],\n",
    "             'max_depth': [25, 30, 35, 40, 45]}\n",
    "model.fit(X_train, Y_train)\n",
    "y_pred = model.predict(X_test)"
   ]
  },
  {
   "cell_type": "code",
   "execution_count": 9,
   "metadata": {},
   "outputs": [
    {
     "name": "stdout",
     "output_type": "stream",
     "text": [
      "Fitting 5 folds for each of 32 candidates, totalling 160 fits\n"
     ]
    },
    {
     "name": "stderr",
     "output_type": "stream",
     "text": [
      "[Parallel(n_jobs=-1)]: Using backend LokyBackend with 8 concurrent workers.\n",
      "[Parallel(n_jobs=-1)]: Done   2 tasks      | elapsed:    4.9s\n",
      "[Parallel(n_jobs=-1)]: Done   9 tasks      | elapsed:    8.8s\n",
      "[Parallel(n_jobs=-1)]: Done  16 tasks      | elapsed:   18.2s\n",
      "[Parallel(n_jobs=-1)]: Done  25 tasks      | elapsed:   23.2s\n",
      "[Parallel(n_jobs=-1)]: Done  34 tasks      | elapsed:   32.6s\n",
      "[Parallel(n_jobs=-1)]: Done  45 tasks      | elapsed:   43.4s\n",
      "[Parallel(n_jobs=-1)]: Done  56 tasks      | elapsed:   54.7s\n",
      "[Parallel(n_jobs=-1)]: Done  69 tasks      | elapsed:   59.8s\n",
      "[Parallel(n_jobs=-1)]: Done  82 tasks      | elapsed:  1.1min\n",
      "[Parallel(n_jobs=-1)]: Done  97 tasks      | elapsed:  1.3min\n",
      "[Parallel(n_jobs=-1)]: Done 112 tasks      | elapsed:  1.4min\n",
      "[Parallel(n_jobs=-1)]: Done 129 tasks      | elapsed:  1.5min\n",
      "[Parallel(n_jobs=-1)]: Done 160 out of 160 | elapsed:  1.6min finished\n"
     ]
    },
    {
     "name": "stdout",
     "output_type": "stream",
     "text": [
      "[LightGBM] [Warning] Unknown parameter: max_features\n",
      "[LightGBM] [Warning] Unknown parameter: min_samples_leaf\n",
      "[LightGBM] [Warning] Unknown parameter: bootstrap\n",
      "[LightGBM] [Warning] Unknown parameter: min_samples_split\n",
      "[LightGBM] [Warning] Accuracy may be bad since you didn't set num_leaves and 2^max_depth > num_leaves\n"
     ]
    },
    {
     "data": {
      "text/plain": [
       "RandomizedSearchCV(cv=5, estimator=LGBMRegressor(), n_iter=32, n_jobs=-1,\n",
       "                   param_distributions={'bootstrap': [True],\n",
       "                                        'max_depth': [80, 90, 100, 110],\n",
       "                                        'max_features': [2, 3],\n",
       "                                        'min_samples_leaf': [3, 4, 5],\n",
       "                                        'min_samples_split': [8, 10, 12],\n",
       "                                        'n_estimators': [100, 200, 300, 1000]},\n",
       "                   scoring='neg_root_mean_squared_error', verbose=10)"
      ]
     },
     "execution_count": 9,
     "metadata": {},
     "output_type": "execute_result"
    }
   ],
   "source": [
    "from sklearn.model_selection import GridSearchCV\n",
    "# Create the parameter grid based on the results of random search \n",
    "param_grid = {\n",
    "    'bootstrap': [True],\n",
    "    'max_depth': [80, 90, 100, 110],\n",
    "    'max_features': [2, 3],\n",
    "    'min_samples_leaf': [3, 4, 5],\n",
    "    'min_samples_split': [8, 10, 12],\n",
    "    'n_estimators': [100, 200, 300, 1000]\n",
    "}\n",
    "\n",
    "grid_search = RandomizedSearchCV(model, \n",
    "                                 param_grid, \n",
    "                                 cv=5, \n",
    "                                 verbose=10, \n",
    "                                 scoring='neg_root_mean_squared_error', \n",
    "                                 n_jobs=-1,\n",
    "                                 n_iter=32)\n",
    "\n",
    "grid_search.fit(X, Y)"
   ]
  },
  {
   "cell_type": "code",
   "execution_count": 10,
   "metadata": {},
   "outputs": [
    {
     "data": {
      "text/plain": [
       "{'n_estimators': 100,\n",
       " 'min_samples_split': 8,\n",
       " 'min_samples_leaf': 4,\n",
       " 'max_features': 3,\n",
       " 'max_depth': 110,\n",
       " 'bootstrap': True}"
      ]
     },
     "execution_count": 10,
     "metadata": {},
     "output_type": "execute_result"
    }
   ],
   "source": [
    "grid_search.best_params_"
   ]
  },
  {
   "cell_type": "code",
   "execution_count": 11,
   "metadata": {},
   "outputs": [
    {
     "data": {
      "text/plain": [
       "-539.0363030818914"
      ]
     },
     "execution_count": 11,
     "metadata": {},
     "output_type": "execute_result"
    }
   ],
   "source": [
    "grid_search.best_score_"
   ]
  },
  {
   "cell_type": "code",
   "execution_count": 12,
   "metadata": {},
   "outputs": [],
   "source": [
    "y_pred = grid_search.predict(diamonds_predict[columns_df])"
   ]
  },
  {
   "cell_type": "code",
   "execution_count": null,
   "metadata": {},
   "outputs": [],
   "source": [
    "rmse=np.sqrt(mean_squared_error(Y_test,y_pred, squared=False))\n",
    "print(\"rmse: %f\" %(rmse))"
   ]
  },
  {
   "cell_type": "code",
   "execution_count": null,
   "metadata": {},
   "outputs": [],
   "source": [
    "X_test = scaller.transform(diamonds_predict[columns_df].values)\n",
    "y_hat = model.predict(X_test).clip(0, 20000)\n",
    "submission = pd.DataFrame({'id': diamonds_predict['id'], 'price': y_hat})\n",
    "submission.to_csv('../data/prueba_pepino.csv', index=False)"
   ]
  }
 ],
 "metadata": {
  "kernelspec": {
   "display_name": "Python [conda env:ironhack_env] *",
   "language": "python",
   "name": "conda-env-ironhack_env-py"
  },
  "language_info": {
   "codemirror_mode": {
    "name": "ipython",
    "version": 3
   },
   "file_extension": ".py",
   "mimetype": "text/x-python",
   "name": "python",
   "nbconvert_exporter": "python",
   "pygments_lexer": "ipython3",
   "version": "3.7.7"
  }
 },
 "nbformat": 4,
 "nbformat_minor": 4
}
